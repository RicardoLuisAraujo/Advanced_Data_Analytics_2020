{
 "cells": [
  {
   "cell_type": "code",
   "execution_count": 2,
   "metadata": {},
   "outputs": [],
   "source": [
    "import numpy as np\n",
    "import matplotlib.pyplot as plt\n",
    "\n"
   ]
  },
  {
   "cell_type": "markdown",
   "metadata": {},
   "source": [
    "Question 1 \n",
    "\n",
    "In this part, start by organizing your data in the different sets you will need and plot the different sets. Explain\n",
    "how you divided your data and justify this division"
   ]
  },
  {
   "cell_type": "code",
   "execution_count": 29,
   "metadata": {},
   "outputs": [],
   "source": [
    "weight = np.loadtxt('children.txt', delimiter = ' ')"
   ]
  },
  {
   "cell_type": "code",
   "execution_count": 30,
   "metadata": {},
   "outputs": [
    {
     "data": {
      "text/plain": [
       "(551, 2)"
      ]
     },
     "execution_count": 30,
     "metadata": {},
     "output_type": "execute_result"
    }
   ],
   "source": [
    "weight.shape"
   ]
  },
  {
   "cell_type": "code",
   "execution_count": 31,
   "metadata": {},
   "outputs": [
    {
     "data": {
      "text/plain": [
       "11.0"
      ]
     },
     "execution_count": 31,
     "metadata": {},
     "output_type": "execute_result"
    }
   ],
   "source": [
    "max(weight[0])"
   ]
  },
  {
   "cell_type": "code",
   "execution_count": 38,
   "metadata": {},
   "outputs": [
    {
     "data": {
      "text/plain": [
       "(149, 2)"
      ]
     },
     "execution_count": 38,
     "metadata": {},
     "output_type": "execute_result"
    }
   ],
   "source": [
    "def random_split(data,test_points):\n",
    "    ranks = np.arange(data.shape[0])\n",
    "    np.random.shuffle(ranks)\n",
    "    train = data[ranks>=test_points,:]\n",
    "    test = data[ranks<test_points,:]\n",
    "    return train,test\n",
    "\n",
    "\n",
    "train, temp = random_split(weight, 350)\n",
    "valid, test = random_split(temp, 201 )\n",
    "\n",
    "valid.shape"
   ]
  },
  {
   "cell_type": "markdown",
   "metadata": {},
   "source": [
    "Question 2\n",
    "\n",
    "Trying polynomial curves of degrees 1 through 12, find the best polynomial degree and the coefficients of the\n",
    "best curve. Explain your approach, explaining how you use your data for this task and justifying your conclusions."
   ]
  },
  {
   "cell_type": "code",
   "execution_count": 22,
   "metadata": {},
   "outputs": [],
   "source": [
    "def m_sq_er(data,coefs):\n",
    "    pred = np.polyval(coefs,data[:,0])\n",
    "    error = np.mean((data[:,1]-pred)**2) #data[:,1] sao os y\n",
    "    return error\n",
    "\n",
    "best_err = 10000000 \n",
    "\n",
    "for degree in range(1,13):\n",
    "    coefs = np.polyfit(train[:,0],train[:,1],degree)\n",
    "    valid_error = m_sq_er(valid,coefs)\n",
    "    if valid_error < best_err:\n",
    "        best_err = valid_error\n",
    "        best_coef = coefs\n",
    "        best_degree = degree\n"
   ]
  },
  {
   "cell_type": "code",
   "execution_count": 41,
   "metadata": {},
   "outputs": [
    {
     "name": "stdout",
     "output_type": "stream",
     "text": [
      "8 \n",
      " [-5.71000268e-08  5.06282095e-06 -1.77102963e-04  3.07526065e-03\n",
      " -2.71246945e-02  1.07945034e-01 -1.31976791e-01  5.86331591e-01\n",
      "  4.63928445e+00] \n",
      " 1.5509063761519029\n"
     ]
    }
   ],
   "source": [
    "print (best_degree,'\\n', best_coef, '\\n',best_err)"
   ]
  },
  {
   "cell_type": "code",
   "execution_count": 24,
   "metadata": {},
   "outputs": [
    {
     "data": {
      "text/plain": [
       "(0.0, 25.0, 0.0, 20.0)"
      ]
     },
     "execution_count": 24,
     "metadata": {},
     "output_type": "execute_result"
    },
    {
     "data": {
      "image/png": "[encoded data removed]",
      "text/plain": [
       "<Figure size 864x576 with 1 Axes>"
      ]
     },
     "metadata": {},
     "output_type": "display_data"
    }
   ],
   "source": [
    "x= train[:,0]\n",
    "y=train[:,1]\n",
    "pxs = np.linspace(0, max(x), 100) #use 100 points\n",
    "poly = np.polyval(coefs, pxs) #calculate the value for each x defined by pxs, considering the coefficients calculated by polyfit\n",
    "\n",
    "plt.figure(figsize = (12,8))\n",
    "plt.plot(x,y, '.')\n",
    "plt.plot(pxs, poly, '-')\n",
    "plt.axis([0,25,0,20])\n"
   ]
  },
  {
   "cell_type": "markdown",
   "metadata": {},
   "source": [
    "Question 3\n",
    "Indicate what is the expected error of your curve when predicting the weight of children from their age in\n",
    "months. Note that the error should be in Kg, so take careful note of the units you are computing. Justify your\n",
    "answer, both the value obtained and the data used to obtain it."
   ]
  },
  {
   "cell_type": "code",
   "execution_count": 1,
   "metadata": {},
   "outputs": [
    {
     "ename": "NameError",
     "evalue": "name 'np' is not defined",
     "output_type": "error",
     "traceback": [
      "\u001b[0;31m---------------------------------------------------------------------------\u001b[0m",
      "\u001b[0;31mNameError\u001b[0m                                 Traceback (most recent call last)",
      "\u001b[0;32m<ipython-input-1-06b00d1073c1>\u001b[0m in \u001b[0;36m<module>\u001b[0;34m\u001b[0m\n\u001b[0;32m----> 1\u001b[0;31m \u001b[0mtest_error\u001b[0m \u001b[0;34m=\u001b[0m \u001b[0mnp\u001b[0m\u001b[0;34m.\u001b[0m\u001b[0msqrt\u001b[0m\u001b[0;34m(\u001b[0m\u001b[0mm_sq_er\u001b[0m\u001b[0;34m(\u001b[0m\u001b[0mtest\u001b[0m\u001b[0;34m,\u001b[0m \u001b[0mbest_coef\u001b[0m\u001b[0;34m)\u001b[0m\u001b[0;34m)\u001b[0m\u001b[0;34m\u001b[0m\u001b[0;34m\u001b[0m\u001b[0m\n\u001b[0m\u001b[1;32m      2\u001b[0m \u001b[0mprint\u001b[0m\u001b[0;34m(\u001b[0m\u001b[0mtest_error\u001b[0m\u001b[0;34m)\u001b[0m\u001b[0;34m\u001b[0m\u001b[0;34m\u001b[0m\u001b[0m\n",
      "\u001b[0;31mNameError\u001b[0m: name 'np' is not defined"
     ]
    }
   ],
   "source": [
    "test_error = np.sqrt(m_sq_er(test, best_coef))\n",
    "print(test_error)"
   ]
  },
  {
   "cell_type": "markdown",
   "metadata": {},
   "source": [
    "Question 4\n",
    "Plot the best curve you found along with the data used to fit the curve coefficients and represent the\n",
    "uncertainty of this curve with different shades at the levels the confidence intervals of 95% and 99%. Explain\n",
    "how your code works."
   ]
  },
  {
   "cell_type": "code",
   "execution_count": 26,
   "metadata": {},
   "outputs": [],
   "source": [
    "plt.style.use(\"seaborn\")\n"
   ]
  },
  {
   "cell_type": "code",
   "execution_count": 42,
   "metadata": {},
   "outputs": [
    {
     "data": {
      "image/png": "[encoded data removed]",
      "text/plain": [
       "<Figure size 864x360 with 1 Axes>"
      ]
     },
     "metadata": {},
     "output_type": "display_data"
    }
   ],
   "source": [
    "def bootstrap_poly (data, replicas, x, degree):\n",
    "    lines = []\n",
    "    params = []\n",
    "    for i in range(replicas):\n",
    "        ixs = np.random.randint(0, data.shape[0], data.shape[0])\n",
    "        rep_data = data[ixs, :]\n",
    "        coefs = np.polyfit(rep_data[:,0], rep_data[:,1], degree)\n",
    "        y = np.polyval(coefs, x)\n",
    "        params.append(coefs)\n",
    "        lines.append(y)\n",
    "    return np.array(params), np.array(lines)\n",
    "\n",
    "\n",
    "def plot_bootstrap(lines, x, color):\n",
    "    center = np.percentile(lines, 50, axis=0)\n",
    "    interval = np.percentile (lines, [0.5, 5,95, 99.5],axis=0)\n",
    "    plt.plot(x, center, '-',color=color)\n",
    "    plt.fill_between(x, interval[0,:], interval[-1,:], color=color, alpha=0.3)\n",
    "    plt.fill_between(x, interval[1,:], interval[2,:], color=color, alpha=0.5)\n",
    "\n",
    "\n",
    "plt.figure(figsize=(12,5))\n",
    "\n",
    "x = np.linspace(0, 24 ,100)\n",
    "\n",
    "\n",
    "params, lines = bootstrap_poly(weight, 1000, x, best_degree)\n",
    "\n",
    "plot_bootstrap(lines,x,'blue')\n",
    "\n"
   ]
  },
  {
   "cell_type": "code",
   "execution_count": null,
   "metadata": {},
   "outputs": [],
   "source": []
  },
  {
   "cell_type": "code",
   "execution_count": null,
   "metadata": {},
   "outputs": [],
   "source": []
  }
 ],
 "metadata": {
  "kernelspec": {
   "display_name": "Python 3",
   "language": "python",
   "name": "python3"
  },
  "language_info": {
   "codemirror_mode": {
    "name": "ipython",
    "version": 3
   },
   "file_extension": ".py",
   "mimetype": "text/x-python",
   "name": "python",
   "nbconvert_exporter": "python",
   "pygments_lexer": "ipython3",
   "version": "3.8.3"
  }
 },
 "nbformat": 4,
 "nbformat_minor": 4
}
